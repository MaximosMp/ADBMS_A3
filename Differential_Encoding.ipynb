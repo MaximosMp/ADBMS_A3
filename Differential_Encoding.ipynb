{
 "cells": [
  {
   "cell_type": "code",
   "execution_count": 1,
   "id": "503b916e-4567-4c8b-be1f-6786d6bedfd0",
   "metadata": {},
   "outputs": [],
   "source": [
    "import csv\n",
    "import numpy as np"
   ]
  },
  {
   "cell_type": "markdown",
   "id": "d4f22e26-d595-4be4-af0c-d049a44352d9",
   "metadata": {},
   "source": [
    "# INT 8"
   ]
  },
  {
   "cell_type": "markdown",
   "id": "021a23b3-0c81-4a13-a800-c2dc21d3fc28",
   "metadata": {},
   "source": [
    "### Encoding"
   ]
  },
  {
   "cell_type": "code",
   "execution_count": 136,
   "id": "5f2efc99-493c-499b-aa48-01a85900d434",
   "metadata": {},
   "outputs": [],
   "source": [
    "def differential_encoding_int8(input_file, output_file):\n",
    "    running_value = 0  \n",
    "    count = 0\n",
    "    escape_code = int(-128).to_bytes(length=1, byteorder='big',signed=True)  # Special escape code for differences that can't be represented in 8 bits\n",
    "\n",
    "    with open(input_file, 'r') as text_in, open(output_file, 'wb') as binary_out:\n",
    "        for line in text_in:\n",
    "            current_value = int(line.strip())\n",
    "\n",
    "            if count == 0:\n",
    "                #running_value = current_value\n",
    "                binary_out.write(current_value.to_bytes(length=1, byteorder='big', signed=True)) ## write value in 16 bits\n",
    "            else:\n",
    "                diff = current_value - running_value\n",
    "\n",
    "                if -127 <= diff <= 127:\n",
    "                    binary_out.write(diff.to_bytes(length=1, byteorder='big', signed=True))\n",
    "                    #running_value = current_value\n",
    "\n",
    "                else:\n",
    "                    binary_out.write(escape_code)\n",
    "                    binary_out.write(current_value.to_bytes(length=1, byteorder='big', signed=True))\n",
    "\n",
    "\n",
    "            running_value = current_value\n",
    "            count+=1"
   ]
  },
  {
   "cell_type": "code",
   "execution_count": 141,
   "id": "37671bd5-66d4-4ad5-88c7-d2b6a958e744",
   "metadata": {},
   "outputs": [],
   "source": [
    "input_csv_file = 'ADM-2023-Assignment-3-data-TPCH-SF-1\\l_tax-int8.csv'\n",
    "output_dif_file = 'encoded_output.csv.dif'\n",
    "\n",
    "differential_encoding_int8(input_csv_file, output_dif_file)\n",
    "\n",
    "#from 11,722 KB to 5,861 KB"
   ]
  },
  {
   "cell_type": "markdown",
   "id": "ee9c74dc-bb5a-435b-b7a1-35a06028d913",
   "metadata": {},
   "source": [
    "### Decoding"
   ]
  },
  {
   "cell_type": "code",
   "execution_count": 142,
   "id": "01a6af8c-9052-47d4-b311-2a347a800f5a",
   "metadata": {},
   "outputs": [],
   "source": [
    "def differential_decoding_int8(input_file, output_file):\n",
    "    running_value = 0\n",
    "    escape = 1\n",
    "\n",
    "    with open(input_file, 'rb') as binary_in, open(output_file, 'w') as text_out:\n",
    "        while True:\n",
    "            if escape == 1:\n",
    "                chunk = binary_in.read(1)\n",
    "                if not chunk:\n",
    "                    break\n",
    "                current_value = int.from_bytes(chunk, byteorder= 'big', signed=True)\n",
    "                \n",
    "                text_out.write(f\"{current_value}\\n\")\n",
    "                running_value = current_value\n",
    "                escape = 0\n",
    "            else:\n",
    "                chunk = binary_in.read(1)\n",
    "                if not chunk:\n",
    "                    break\n",
    "                current_value = int.from_bytes(chunk, byteorder = 'big', signed = True)\n",
    "\n",
    "                if -127 <= current_value <= 127:\n",
    "                    running_value += current_value\n",
    "                    text_out.write(f\"{running_value}\\n\")\n",
    "                else:\n",
    "                    escape = 1\n",
    "                \n",
    "            "
   ]
  },
  {
   "cell_type": "code",
   "execution_count": 143,
   "id": "0f642925-8577-44c2-a3e1-b3af73cc5e2e",
   "metadata": {},
   "outputs": [],
   "source": [
    "input_dif_file = 'encoded_output.csv.dif'\n",
    "output_csv_file = 'decoded_output.csv.dif.csv'\n",
    "\n",
    "differential_decoding_int8(input_dif_file, output_csv_file)\n",
    "\n",
    "# back to 11,722 KB"
   ]
  },
  {
   "cell_type": "markdown",
   "id": "8c616e4a-12a6-4f3e-9d62-4e8fe20b4c89",
   "metadata": {},
   "source": [
    "# INT 16"
   ]
  },
  {
   "cell_type": "markdown",
   "id": "c3242947-4fa8-49b2-9dc6-f5f400b24c05",
   "metadata": {},
   "source": [
    "### Encoding"
   ]
  },
  {
   "cell_type": "code",
   "execution_count": 71,
   "id": "8dd5855a-88a0-4973-b889-5e0e625e66c7",
   "metadata": {},
   "outputs": [],
   "source": [
    "def differential_encoding_int16(input_file, output_file):\n",
    "    running_value = 0  \n",
    "    count = 0\n",
    "    escape_code = int(-128).to_bytes(length=1, byteorder='big',signed=True)  # Special escape code for differences that can't be represented in 8 bits\n",
    "\n",
    "    with open(input_file, 'r') as text_in, open(output_file, 'wb') as binary_out:\n",
    "        for line in text_in:\n",
    "            current_value = int(line.strip())\n",
    "\n",
    "            if count == 0:\n",
    "                #running_value = current_value\n",
    "                binary_out.write(current_value.to_bytes(length=2, byteorder='big', signed=True)) ## write value in 16 bits\n",
    "            else:\n",
    "                diff = current_value - running_value\n",
    "\n",
    "                if -127 <= diff <= 127:\n",
    "                    binary_out.write(diff.to_bytes(length=1, byteorder='big', signed=True))\n",
    "                    #running_value = current_value\n",
    "\n",
    "                else:\n",
    "                    binary_out.write(escape_code)\n",
    "                    binary_out.write(current_value.to_bytes(length=2, byteorder='big', signed=True))\n",
    "\n",
    "\n",
    "            running_value = current_value\n",
    "            count+=1\n",
    "                    \n",
    "                "
   ]
  },
  {
   "cell_type": "code",
   "execution_count": 91,
   "id": "5310daf1-a22f-4910-8e98-aff4b2f9fd9c",
   "metadata": {},
   "outputs": [],
   "source": [
    "input_csv_file = 'ADM-2023-Assignment-3-data-TPCH-SF-1\\l_discount-int16.csv'\n",
    "output_dif_file = 'encoded_output.csv.dif'\n",
    "\n",
    "differential_encoding_int16(input_csv_file, output_dif_file)\n",
    "\n",
    "#from 12,255 KB to 5,861 KB"
   ]
  },
  {
   "cell_type": "markdown",
   "id": "94de5ed7-bbb8-4553-b47c-e04794507c82",
   "metadata": {},
   "source": [
    "### Decoding"
   ]
  },
  {
   "cell_type": "code",
   "execution_count": 123,
   "id": "dcfe632e-314e-4f9d-a53b-077b4b0dc19e",
   "metadata": {},
   "outputs": [],
   "source": [
    "def differential_decoding_int16(input_file, output_file):\n",
    "    running_value = 0\n",
    "    escape = 1\n",
    "\n",
    "    with open(input_file, 'rb') as binary_in, open(output_file, 'w') as text_out:\n",
    "        while True:\n",
    "            if escape == 1:\n",
    "                chunk = binary_in.read(2)\n",
    "                if not chunk:\n",
    "                    break\n",
    "                current_value = int.from_bytes(chunk, byteorder= 'big', signed=True)\n",
    "                \n",
    "                text_out.write(f\"{current_value}\\n\")\n",
    "                running_value = current_value\n",
    "                escape = 0\n",
    "            else:\n",
    "                chunk = binary_in.read(1)\n",
    "                if not chunk:\n",
    "                    break\n",
    "                current_value = int.from_bytes(chunk, byteorder = 'big', signed = True)\n",
    "\n",
    "                if -127 <= current_value <= 127:\n",
    "                    running_value += current_value\n",
    "                    text_out.write(f\"{running_value}\\n\")\n",
    "                else:\n",
    "                    escape = 1\n",
    "                \n",
    "            "
   ]
  },
  {
   "cell_type": "code",
   "execution_count": 92,
   "id": "c7ce5343-bf61-4422-94bc-fa446738aff0",
   "metadata": {},
   "outputs": [],
   "source": [
    "input_dif_file = 'encoded_output.csv.dif'\n",
    "output_csv_file = 'decoded_output.csv.dif.csv'\n",
    "\n",
    "differential_decoding_int16(input_dif_file, output_csv_file)\n",
    "\n",
    "# back to 12,255 KB"
   ]
  },
  {
   "cell_type": "markdown",
   "id": "270f4c25-618a-4a3d-be92-d7e162949243",
   "metadata": {},
   "source": [
    "# INT 32"
   ]
  },
  {
   "cell_type": "markdown",
   "id": "54316a93-1465-4cc0-81ab-ff62b90a90cc",
   "metadata": {},
   "source": [
    "### Encoding"
   ]
  },
  {
   "cell_type": "code",
   "execution_count": 144,
   "id": "8ba79e17-a718-44e8-927b-e580f3d90255",
   "metadata": {},
   "outputs": [],
   "source": [
    "def differential_encoding_int32(input_file, output_file):\n",
    "    \n",
    "    #first we read the first 201 lines to get 200 differences\n",
    "    sample = []\n",
    "    sample_count = 0\n",
    "    sample_prev = 0\n",
    "    \n",
    "    with open(input_file, 'r') as text_in:\n",
    "        for line in text_in:\n",
    "            current_value = int(line.strip())\n",
    "    \n",
    "            if sample_count > 0:\n",
    "                sample_diff = current_value - sample_prev\n",
    "                sample.append(sample_diff)\n",
    "            \n",
    "            sample_count+=1\n",
    "            sample_prev = current_value\n",
    "    \n",
    "            if len(sample) == 200:\n",
    "                break\n",
    "\n",
    "    if -128 <= np.quantile(sample, 0.9) <= 127:\n",
    "        escape_length = 1\n",
    "    else:\n",
    "        escape_length = 2\n",
    "        \n",
    "    running_value = 0  \n",
    "    count = 0\n",
    "    escape_code = int(-2**((8*escape_length)-1)).to_bytes(length=escape_length, byteorder='big',signed=True)  # Special escape code for differences\n",
    "    min_diff = -2**((8*escape_length)-1)+1\n",
    "    max_diff = abs(min_diff)\n",
    "\n",
    "    \n",
    "    with open(input_file, 'r') as text_in, open(output_file, 'wb') as binary_out:\n",
    "        for line in text_in:\n",
    "            current_value = int(line.strip())\n",
    "\n",
    "            if count == 0:\n",
    "                #running_value = current_value\n",
    "                binary_out.write(escape_length.to_bytes(length=1, byteorder='big', signed=True)) ## write escape code\n",
    "                binary_out.write(current_value.to_bytes(length=3, byteorder='big', signed=True)) ## write value in 32 bits\n",
    "            else:\n",
    "                diff = current_value - running_value\n",
    "\n",
    "                if min_diff <= diff <= max_diff:\n",
    "                    binary_out.write(diff.to_bytes(length=escape_length, byteorder='big', signed=True))\n",
    "                    #running_value = current_value\n",
    "\n",
    "                else:\n",
    "                    binary_out.write(escape_code)\n",
    "                    binary_out.write(current_value.to_bytes(length=3, byteorder='big', signed=True))\n",
    "\n",
    "\n",
    "            running_value = current_value\n",
    "            count+=1\n",
    "                    \n",
    "                "
   ]
  },
  {
   "cell_type": "code",
   "execution_count": 97,
   "id": "7a8ee15a-71b7-43cc-a22b-24f05b56f723",
   "metadata": {},
   "outputs": [],
   "source": [
    "input_csv_file = 'ADM-2023-Assignment-3-data-TPCH-SF-1\\l_suppkey-int32.csv'\n",
    "output_dif_file = 'encoded_output.csv.dif'\n",
    "\n",
    "differential_encoding_int32(input_csv_file, output_dif_file)\n",
    "\n",
    "#from 28,655 KB to 11,722 KB"
   ]
  },
  {
   "cell_type": "markdown",
   "id": "a859cd25-c7e7-40e6-88a0-9400fb40eff3",
   "metadata": {},
   "source": [
    "### Decoding"
   ]
  },
  {
   "cell_type": "code",
   "execution_count": 121,
   "id": "58f807ea-efb9-4fb8-abe7-1d31e40c088f",
   "metadata": {},
   "outputs": [],
   "source": [
    "def differential_decoding_int32(input_file, output_file):\n",
    "    running_value = 0\n",
    "    escape = 1\n",
    "    first_row = True\n",
    "    \n",
    "    with open(input_file, 'rb') as binary_in, open(output_file, 'w') as text_out:\n",
    "        while True:\n",
    "            if first_row:\n",
    "                chunk = binary_in.read(1)\n",
    "                if not chunk:\n",
    "                    break\n",
    "\n",
    "                escape_length = int.from_bytes(chunk, byteorder='big', signed = True)\n",
    "                min_diff = -2**((8*escape_length)-1)+1\n",
    "                max_diff = abs(min_diff)\n",
    "\n",
    "                first_row = False\n",
    "            else:\n",
    "                if escape == 1:\n",
    "                    chunk = binary_in.read(3)\n",
    "                    if not chunk:\n",
    "                        break\n",
    "                    current_value = int.from_bytes(chunk, byteorder= 'big', signed=True)\n",
    "                    \n",
    "                    text_out.write(f\"{current_value}\\n\")\n",
    "                    running_value = current_value\n",
    "                    escape = 0\n",
    "                else:\n",
    "                    chunk = binary_in.read(escape_length)\n",
    "                    if not chunk:\n",
    "                        break\n",
    "                    current_value = int.from_bytes(chunk, byteorder = 'big', signed = True)\n",
    "    \n",
    "                    if min_diff <= current_value <= max_diff:\n",
    "                        running_value += current_value\n",
    "                        text_out.write(f\"{running_value}\\n\")\n",
    "                    else:\n",
    "                        escape = 1\n",
    "                    \n",
    "            "
   ]
  },
  {
   "cell_type": "code",
   "execution_count": 122,
   "id": "f0f3ec6c-b705-4ec6-87ec-616890322564",
   "metadata": {},
   "outputs": [],
   "source": [
    "input_dif_file = 'encoded_output.csv.dif'\n",
    "output_csv_file = 'decoded_output.csv.dif.csv'\n",
    "\n",
    "differential_decoding_int32(input_dif_file, output_csv_file)\n",
    "\n",
    "# back to 28,655 KB"
   ]
  },
  {
   "cell_type": "markdown",
   "id": "83811721-a894-4d42-93a3-2cf01868d102",
   "metadata": {},
   "source": [
    "# INT 64"
   ]
  },
  {
   "cell_type": "markdown",
   "id": "b4199c65-7b89-4a1a-9d7e-e4fa74ec0e18",
   "metadata": {},
   "source": [
    "### Encoding"
   ]
  },
  {
   "cell_type": "code",
   "execution_count": 145,
   "id": "59d5a38f-6437-4a6d-a96b-54a4002a7b7e",
   "metadata": {},
   "outputs": [],
   "source": [
    "def differential_encoding_int64(input_file, output_file):\n",
    "    \n",
    "    #first we read the first 201 lines to get 200 differences\n",
    "    sample = []\n",
    "    sample_count = 0\n",
    "    sample_prev = 0\n",
    "    \n",
    "    with open(input_file, 'r') as text_in:\n",
    "        for line in text_in:\n",
    "            current_value = int(line.strip())\n",
    "    \n",
    "            if sample_count > 0:\n",
    "                sample_diff = current_value - sample_prev\n",
    "                sample.append(sample_diff)\n",
    "            \n",
    "            sample_count+=1\n",
    "            sample_prev = current_value\n",
    "    \n",
    "            if len(sample) == 200:\n",
    "                break\n",
    "\n",
    "    if -128 <= np.quantile(sample, 0.9) <= 127:\n",
    "        escape_length = 1\n",
    "    elif -32768 <= np.quantile(sample, 0.9) <= 32767:\n",
    "        escape_length = 2\n",
    "    else:\n",
    "        escape_length = 3\n",
    "        \n",
    "    running_value = 0  \n",
    "    count = 0\n",
    "    escape_code = int(-2**((8*escape_length)-1)).to_bytes(length=escape_length, byteorder='big',signed=True)  # Special escape code for differences\n",
    "    min_diff = -2**((8*escape_length)-1)+1\n",
    "    max_diff = abs(min_diff)\n",
    "\n",
    "    \n",
    "    with open(input_file, 'r') as text_in, open(output_file, 'wb') as binary_out:\n",
    "        for line in text_in:\n",
    "            current_value = int(line.strip())\n",
    "\n",
    "            if count == 0:\n",
    "                #running_value = current_value\n",
    "                binary_out.write(escape_length.to_bytes(length=1, byteorder='big', signed=True)) ## write escape code\n",
    "                binary_out.write(current_value.to_bytes(length=4, byteorder='big', signed=True)) ## write value in 64 bits\n",
    "            else:\n",
    "                diff = current_value - running_value\n",
    "\n",
    "                if min_diff <= diff <= max_diff:\n",
    "                    binary_out.write(diff.to_bytes(length=escape_length, byteorder='big', signed=True))\n",
    "                    #running_value = current_value\n",
    "\n",
    "                else:\n",
    "                    binary_out.write(escape_code)\n",
    "                    binary_out.write(current_value.to_bytes(length=4, byteorder='big', signed=True))\n",
    "\n",
    "\n",
    "            running_value = current_value\n",
    "            count+=1"
   ]
  },
  {
   "cell_type": "code",
   "execution_count": 132,
   "id": "6a5ff915-e8e1-420e-b4ee-1ee90f5fd836",
   "metadata": {},
   "outputs": [],
   "source": [
    "input_csv_file = 'ADM-2023-Assignment-3-data-TPCH-SF-1\\l_extendedprice-int64.csv'\n",
    "output_dif_file = 'encoded_output.csv.dif'\n",
    "\n",
    "differential_encoding_int64(input_csv_file, output_dif_file)\n",
    "\n",
    "# from 46,131 KB to 17,689"
   ]
  },
  {
   "cell_type": "markdown",
   "id": "204490a8-d72b-4e0b-afd9-5cbdbd352e0f",
   "metadata": {},
   "source": [
    "### Decoding"
   ]
  },
  {
   "cell_type": "code",
   "execution_count": 133,
   "id": "56ffeaff-7fcd-4e16-b837-d286c1273c8f",
   "metadata": {},
   "outputs": [],
   "source": [
    "def differential_decoding_int64(input_file, output_file):\n",
    "    running_value = 0\n",
    "    escape = 1\n",
    "    first_row = True\n",
    "    \n",
    "    with open(input_file, 'rb') as binary_in, open(output_file, 'w') as text_out:\n",
    "        while True:\n",
    "            if first_row:\n",
    "                chunk = binary_in.read(1)\n",
    "                if not chunk:\n",
    "                    break\n",
    "\n",
    "                escape_length = int.from_bytes(chunk, byteorder='big', signed = True)\n",
    "                min_diff = -2**((8*escape_length)-1)+1\n",
    "                max_diff = abs(min_diff)\n",
    "\n",
    "                first_row = False\n",
    "            else:\n",
    "                if escape == 1:\n",
    "                    chunk = binary_in.read(4)\n",
    "                    if not chunk:\n",
    "                        break\n",
    "                    current_value = int.from_bytes(chunk, byteorder= 'big', signed=True)\n",
    "                    \n",
    "                    text_out.write(f\"{current_value}\\n\")\n",
    "                    running_value = current_value\n",
    "                    escape = 0\n",
    "                else:\n",
    "                    chunk = binary_in.read(escape_length)\n",
    "                    if not chunk:\n",
    "                        break\n",
    "                    current_value = int.from_bytes(chunk, byteorder = 'big', signed = True)\n",
    "    \n",
    "                    if min_diff <= current_value <= max_diff:\n",
    "                        running_value += current_value\n",
    "                        text_out.write(f\"{running_value}\\n\")\n",
    "                    else:\n",
    "                        escape = 1\n",
    "                    \n",
    "            "
   ]
  },
  {
   "cell_type": "code",
   "execution_count": 135,
   "id": "1a43eaad-ae2f-488d-98d7-8980fb96e6e6",
   "metadata": {},
   "outputs": [],
   "source": [
    "input_dif_file = 'encoded_output.csv.dif'\n",
    "output_csv_file = 'decoded_output.csv.dif.csv'\n",
    "\n",
    "differential_decoding_int64(input_dif_file, output_csv_file)\n",
    "\n",
    "# back to 46,131 KB"
   ]
  }
 ],
 "metadata": {
  "kernelspec": {
   "display_name": "Python 3 (ipykernel)",
   "language": "python",
   "name": "python3"
  },
  "language_info": {
   "codemirror_mode": {
    "name": "ipython",
    "version": 3
   },
   "file_extension": ".py",
   "mimetype": "text/x-python",
   "name": "python",
   "nbconvert_exporter": "python",
   "pygments_lexer": "ipython3",
   "version": "3.10.10"
  }
 },
 "nbformat": 4,
 "nbformat_minor": 5
}
