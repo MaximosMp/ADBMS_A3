{
 "cells": [
  {
   "cell_type": "code",
   "execution_count": 2,
   "id": "6f137913-3984-4fd3-9587-dfaf84645809",
   "metadata": {},
   "outputs": [],
   "source": [
    "import csv\n",
    "import numpy as np"
   ]
  },
  {
   "cell_type": "markdown",
   "id": "0444f8b9-b7dc-4f12-8d49-da4e266c9c6b",
   "metadata": {},
   "source": [
    "# INT 8"
   ]
  },
  {
   "cell_type": "markdown",
   "id": "3411a802-095a-4a84-bd70-0e2e9265d791",
   "metadata": {},
   "source": [
    "### Encoding"
   ]
  },
  {
   "cell_type": "code",
   "execution_count": 15,
   "id": "8fa6b8d3-be03-405a-8de1-39c41a7c296d",
   "metadata": {},
   "outputs": [],
   "source": [
    "def FrameOfReference_encoding_int8(input_file, output_file):\n",
    "    #first we read the first 200 lines\n",
    "    sample = []\n",
    "    \n",
    "    with open(input_file, 'r') as text_in:\n",
    "        for line in text_in:\n",
    "            current_value = int(line.strip())\n",
    "            sample.append(current_value)\n",
    "            \n",
    "            if len(sample) == 200:\n",
    "                break\n",
    "\n",
    "    frame = int(np.mean(sample))\n",
    "\n",
    "    count = 0\n",
    "    escape_code = int(-128).to_bytes(length=1, byteorder='big',signed=True)  # Special escape code for differences that can't be represented in 8 bits\n",
    "\n",
    "    with open(input_file, 'r') as text_in, open(output_file, 'wb') as binary_out:\n",
    "        for line in text_in:\n",
    "            current_value = int(line.strip())\n",
    "            diff = current_value - frame\n",
    "            \n",
    "            if count == 0:\n",
    "                #running_value = current_value\n",
    "                binary_out.write(frame.to_bytes(length=1, byteorder='big', signed=True))\n",
    "                \n",
    "            if -127 <= diff <= 127:\n",
    "                binary_out.write(diff.to_bytes(length=1, byteorder='big', signed=True))\n",
    "                #running_value = current_value\n",
    "\n",
    "            else:\n",
    "                binary_out.write(escape_code)\n",
    "                binary_out.write(current_value.to_bytes(length=1, byteorder='big', signed=True))\n",
    "\n",
    "            count+=1"
   ]
  },
  {
   "cell_type": "code",
   "execution_count": 16,
   "id": "f09cca8c-de2a-44fe-8420-88dfab5d3b08",
   "metadata": {},
   "outputs": [],
   "source": [
    "input_csv_file = 'ADM-2023-Assignment-3-data-TPCH-SF-1\\l_tax-int8.csv'\n",
    "output_dif_file = 'encoded_output.csv.dif'\n",
    "\n",
    "FrameOfReference_encoding_int8(input_csv_file, output_dif_file)\n",
    "\n",
    "#from 11,722 KB to 5,861 KB"
   ]
  },
  {
   "cell_type": "markdown",
   "id": "afe4f53e-1471-4a45-9553-bfabd4879cae",
   "metadata": {},
   "source": [
    "### Decoding"
   ]
  },
  {
   "cell_type": "code",
   "execution_count": 18,
   "id": "4820d386-dee5-4e73-b377-27bbce357cfb",
   "metadata": {},
   "outputs": [],
   "source": [
    "def FrameOfReference_decoding_int8(input_file, output_file):\n",
    "    first_row = True\n",
    "    escape = 0\n",
    "\n",
    "    with open(input_file, 'rb') as binary_in, open(output_file, 'w') as text_out:\n",
    "        while True:\n",
    "            if first_row:\n",
    "                chunk = binary_in.read(1)\n",
    "                if not chunk:\n",
    "                    break\n",
    "\n",
    "                frame = int.from_bytes(chunk, byteorder = 'big', signed = True)\n",
    "\n",
    "                first_row = False\n",
    "            else:\n",
    "                if escape == 1:\n",
    "                    chunk = binary_in.read(1)\n",
    "                    if not chunk:\n",
    "                        break\n",
    "                    current_value = int.from_bytes(chunk, byteorder= 'big', signed=True)\n",
    "                    \n",
    "                    text_out.write(f\"{current_value}\\n\")\n",
    "                    \n",
    "                else:\n",
    "                    chunk = binary_in.read(1)\n",
    "                    if not chunk:\n",
    "                        break\n",
    "                    current_value = int.from_bytes(chunk, byteorder = 'big', signed = True)\n",
    "    \n",
    "                    if -127 <= current_value <= 127:\n",
    "                        diff = frame + current_value\n",
    "                        text_out.write(f\"{diff}\\n\")\n",
    "                    else:\n",
    "                        escape = 1"
   ]
  },
  {
   "cell_type": "code",
   "execution_count": 19,
   "id": "80ce777a-b9d9-4f68-a2f1-d33251488ac3",
   "metadata": {},
   "outputs": [],
   "source": [
    "input_dif_file = 'encoded_output.csv.dif'\n",
    "output_csv_file = 'decoded_output.csv.dif.csv'\n",
    "\n",
    "FrameOfReference_decoding_int8(input_dif_file, output_csv_file)\n",
    "\n",
    "# back to 11,722 KB"
   ]
  },
  {
   "cell_type": "markdown",
   "id": "18a688b3-9512-4285-b422-330ec4c07dcc",
   "metadata": {},
   "source": [
    "# INT 16"
   ]
  },
  {
   "cell_type": "markdown",
   "id": "3b447feb-3709-4276-9e34-275ce5a133cf",
   "metadata": {},
   "source": [
    "### Encoding"
   ]
  },
  {
   "cell_type": "code",
   "execution_count": 25,
   "id": "cba0b34e-9212-4352-9e41-704a354c6640",
   "metadata": {},
   "outputs": [],
   "source": [
    "def FrameOfReference_encoding_int16(input_file, output_file):\n",
    "    #first we read the first 200 lines\n",
    "    sample = []\n",
    "    \n",
    "    with open(input_file, 'r') as text_in:\n",
    "        for line in text_in:\n",
    "            current_value = int(line.strip())\n",
    "            sample.append(current_value)\n",
    "            \n",
    "            if len(sample) == 200:\n",
    "                break\n",
    "\n",
    "    frame = int(np.mean(sample))\n",
    "\n",
    "    count = 0\n",
    "    escape_code = int(-128).to_bytes(length=1, byteorder='big',signed=True)  # Special escape code for differences that can't be represented in 8 bits\n",
    "\n",
    "    with open(input_file, 'r') as text_in, open(output_file, 'wb') as binary_out:\n",
    "        for line in text_in:\n",
    "            current_value = int(line.strip())\n",
    "            diff = current_value - frame\n",
    "            \n",
    "            if count == 0:\n",
    "                #running_value = current_value\n",
    "                binary_out.write(frame.to_bytes(length=2, byteorder='big', signed=True))\n",
    "                \n",
    "            if -127 <= diff <= 127:\n",
    "                binary_out.write(diff.to_bytes(length=1, byteorder='big', signed=True))\n",
    "                #running_value = current_value\n",
    "\n",
    "            else:\n",
    "                binary_out.write(escape_code)\n",
    "                binary_out.write(current_value.to_bytes(length=2, byteorder='big', signed=True))\n",
    "\n",
    "            count+=1"
   ]
  },
  {
   "cell_type": "code",
   "execution_count": 21,
   "id": "25665694-3aab-4ae7-af30-8cf78941060c",
   "metadata": {},
   "outputs": [],
   "source": [
    "input_csv_file = 'ADM-2023-Assignment-3-data-TPCH-SF-1\\l_discount-int16.csv'\n",
    "output_dif_file = 'encoded_output.csv.dif'\n",
    "\n",
    "FrameOfReference_encoding_int16(input_csv_file, output_dif_file)\n",
    "\n",
    "#from 12,255 KB to 5,861 KB"
   ]
  },
  {
   "cell_type": "markdown",
   "id": "3bc01abb-baad-480d-9059-ed894434bb10",
   "metadata": {},
   "source": [
    "### Decoding"
   ]
  },
  {
   "cell_type": "code",
   "execution_count": 22,
   "id": "89c2c2c4-d99f-422a-ae2d-36f978080dd2",
   "metadata": {},
   "outputs": [],
   "source": [
    "def FrameOfReference_decoding_int16(input_file, output_file):\n",
    "    first_row = True\n",
    "    escape = 0\n",
    "\n",
    "    with open(input_file, 'rb') as binary_in, open(output_file, 'w') as text_out:\n",
    "        while True:\n",
    "            if first_row:\n",
    "                chunk = binary_in.read(2)\n",
    "                if not chunk:\n",
    "                    break\n",
    "\n",
    "                frame = int.from_bytes(chunk, byteorder = 'big', signed = True)\n",
    "\n",
    "                first_row = False\n",
    "            else:\n",
    "                if escape == 1:\n",
    "                    chunk = binary_in.read(2)\n",
    "                    if not chunk:\n",
    "                        break\n",
    "                    current_value = int.from_bytes(chunk, byteorder= 'big', signed=True)\n",
    "                    \n",
    "                    text_out.write(f\"{current_value}\\n\")\n",
    "                    \n",
    "                else:\n",
    "                    chunk = binary_in.read(1)\n",
    "                    if not chunk:\n",
    "                        break\n",
    "                    current_value = int.from_bytes(chunk, byteorder = 'big', signed = True)\n",
    "    \n",
    "                    if -127 <= current_value <= 127:\n",
    "                        diff = frame + current_value\n",
    "                        text_out.write(f\"{diff}\\n\")\n",
    "                    else:\n",
    "                        escape = 1"
   ]
  },
  {
   "cell_type": "code",
   "execution_count": 23,
   "id": "63fe3019-7f30-4b5a-8d3d-bacd4cee3381",
   "metadata": {},
   "outputs": [],
   "source": [
    "input_dif_file = 'encoded_output.csv.dif'\n",
    "output_csv_file = 'decoded_output.csv.dif.csv'\n",
    "\n",
    "FrameOfReference_decoding_int16(input_dif_file, output_csv_file)\n",
    "\n",
    "# back to 12,255 KB"
   ]
  },
  {
   "cell_type": "markdown",
   "id": "f576c9ff-2376-4ff7-a686-7771b24ee9db",
   "metadata": {},
   "source": [
    "# INT 32"
   ]
  },
  {
   "cell_type": "markdown",
   "id": "44158423-99f4-4a66-9dd5-f59b2c3856ec",
   "metadata": {},
   "source": [
    "### Encoding"
   ]
  },
  {
   "cell_type": "code",
   "execution_count": 30,
   "id": "d8a24599-c7ce-43e6-b178-53e23f6a72a0",
   "metadata": {},
   "outputs": [],
   "source": [
    "def FrameOfReference_encoding_int32(input_file, output_file):\n",
    "    #first we read the first 200 lines\n",
    "    sample = []\n",
    "    \n",
    "    with open(input_file, 'r') as text_in:\n",
    "        for line in text_in:\n",
    "            current_value = int(line.strip())\n",
    "            sample.append(current_value)\n",
    "            \n",
    "            if len(sample) == 200:\n",
    "                break\n",
    "\n",
    "    frame = int(np.mean(sample))\n",
    "\n",
    "    sample_diff = []\n",
    "    for i in sample:\n",
    "        sample_diff.append(i-frame)\n",
    "\n",
    "    if -128 <= np.quantile(sample_diff, 0.9) <= 127:\n",
    "        escape_length = 1\n",
    "    else:\n",
    "        escape_length = 2\n",
    "        \n",
    "    count = 0\n",
    "    escape_code = int(-2**((8*escape_length)-1)).to_bytes(length=escape_length, byteorder='big',signed=True)  # Special escape code for differences\n",
    "    min_diff = -2**((8*escape_length)-1)+1\n",
    "    max_diff = abs(min_diff)\n",
    "    \n",
    "    with open(input_file, 'r') as text_in, open(output_file, 'wb') as binary_out:\n",
    "        for line in text_in:\n",
    "            current_value = int(line.strip())\n",
    "            diff = current_value - frame\n",
    "            \n",
    "            if count == 0:\n",
    "                #running_value = current_value\n",
    "                binary_out.write(escape_length.to_bytes(length=1, byteorder='big', signed=True)) ## write escape code\n",
    "                binary_out.write(frame.to_bytes(length=3, byteorder='big', signed=True))\n",
    "                \n",
    "            if min_diff <= diff <= max_diff:\n",
    "                binary_out.write(diff.to_bytes(length=escape_length, byteorder='big', signed=True))\n",
    "                #running_value = current_value\n",
    "\n",
    "            else:\n",
    "                binary_out.write(escape_code)\n",
    "                binary_out.write(current_value.to_bytes(length=3, byteorder='big', signed=True))\n",
    "\n",
    "            count+=1"
   ]
  },
  {
   "cell_type": "code",
   "execution_count": 31,
   "id": "26f79aaa-3283-4e9d-965e-d613825d4931",
   "metadata": {},
   "outputs": [],
   "source": [
    "input_csv_file = 'ADM-2023-Assignment-3-data-TPCH-SF-1\\l_suppkey-int32.csv'\n",
    "output_dif_file = 'encoded_output.csv.dif'\n",
    "\n",
    "FrameOfReference_encoding_int32(input_csv_file, output_dif_file)\n",
    "\n",
    "#from 28,655 KB to 11,722 KB"
   ]
  },
  {
   "cell_type": "markdown",
   "id": "e70ffa2e-5be4-4285-bd03-a648a75b6129",
   "metadata": {},
   "source": [
    "### Decoding"
   ]
  },
  {
   "cell_type": "code",
   "execution_count": 32,
   "id": "7cfebcae-da33-4b51-9b17-f5b8a0b209d1",
   "metadata": {},
   "outputs": [],
   "source": [
    "def FrameOfReference_decoding_int32(input_file, output_file):\n",
    "    first_row = True\n",
    "    escape = 0\n",
    "\n",
    "    with open(input_file, 'rb') as binary_in, open(output_file, 'w') as text_out:\n",
    "        while True:\n",
    "            if first_row:\n",
    "                chunk = binary_in.read(1)\n",
    "                if not chunk:\n",
    "                    break\n",
    "\n",
    "                escape_length = int.from_bytes(chunk, byteorder='big', signed = True)\n",
    "                min_diff = -2**((8*escape_length)-1)+1\n",
    "                max_diff = abs(min_diff)\n",
    "                \n",
    "                chunk = binary_in.read(3)\n",
    "                if not chunk:\n",
    "                    break\n",
    "\n",
    "                frame = int.from_bytes(chunk, byteorder = 'big', signed = True)\n",
    "\n",
    "                first_row = False\n",
    "            else:\n",
    "                if escape == 1:\n",
    "                    chunk = binary_in.read(3)\n",
    "                    if not chunk:\n",
    "                        break\n",
    "                    current_value = int.from_bytes(chunk, byteorder= 'big', signed=True)\n",
    "                    \n",
    "                    text_out.write(f\"{current_value}\\n\")\n",
    "                    \n",
    "                else:\n",
    "                    chunk = binary_in.read(escape_length)\n",
    "                    if not chunk:\n",
    "                        break\n",
    "                    current_value = int.from_bytes(chunk, byteorder = 'big', signed = True)\n",
    "    \n",
    "                    if min_diff <= current_value <= max_diff:\n",
    "                        diff = frame + current_value\n",
    "                        text_out.write(f\"{diff}\\n\")\n",
    "                    else:\n",
    "                        escape = 1"
   ]
  },
  {
   "cell_type": "code",
   "execution_count": 33,
   "id": "78377ed4-c869-4b55-bfbe-66500c1f3e55",
   "metadata": {},
   "outputs": [],
   "source": [
    "input_dif_file = 'encoded_output.csv.dif'\n",
    "output_csv_file = 'decoded_output.csv.dif.csv'\n",
    "\n",
    "FrameOfReference_decoding_int32(input_dif_file, output_csv_file)\n",
    "\n",
    "# back to 28,655 KB"
   ]
  },
  {
   "cell_type": "markdown",
   "id": "98867bfb-58c1-4d9b-99d5-c5c0401d8d37",
   "metadata": {},
   "source": [
    "# INT 64"
   ]
  },
  {
   "cell_type": "markdown",
   "id": "67b653b9-c81f-4521-ab3e-da56b213d52d",
   "metadata": {},
   "source": [
    "### Encoding"
   ]
  },
  {
   "cell_type": "code",
   "execution_count": 34,
   "id": "4582f17f-5eae-4d3d-8912-4a91813d9930",
   "metadata": {},
   "outputs": [],
   "source": [
    "def FrameOfReference_encoding_int64(input_file, output_file):\n",
    "    #first we read the first 200 lines\n",
    "    sample = []\n",
    "    \n",
    "    with open(input_file, 'r') as text_in:\n",
    "        for line in text_in:\n",
    "            current_value = int(line.strip())\n",
    "            sample.append(current_value)\n",
    "            \n",
    "            if len(sample) == 200:\n",
    "                break\n",
    "\n",
    "    frame = int(np.mean(sample))\n",
    "\n",
    "    sample_diff = []\n",
    "    for i in sample:\n",
    "        sample_diff.append(i-frame)\n",
    "\n",
    "    if -128 <= np.quantile(sample_diff, 0.9) <= 127:\n",
    "        escape_length = 1\n",
    "    elif -32768 <= np.quantile(sample_diff, 0.9) <= 32767:\n",
    "        escape_length = 2\n",
    "    else:\n",
    "        escape_length = 3\n",
    "        \n",
    "    count = 0\n",
    "    escape_code = int(-2**((8*escape_length)-1)).to_bytes(length=escape_length, byteorder='big',signed=True)  # Special escape code for differences\n",
    "    min_diff = -2**((8*escape_length)-1)+1\n",
    "    max_diff = abs(min_diff)\n",
    "    \n",
    "    with open(input_file, 'r') as text_in, open(output_file, 'wb') as binary_out:\n",
    "        for line in text_in:\n",
    "            current_value = int(line.strip())\n",
    "            diff = current_value - frame\n",
    "            \n",
    "            if count == 0:\n",
    "                #running_value = current_value\n",
    "                binary_out.write(escape_length.to_bytes(length=1, byteorder='big', signed=True)) ## write escape code\n",
    "                binary_out.write(frame.to_bytes(length=4, byteorder='big', signed=True))\n",
    "                \n",
    "            if min_diff <= diff <= max_diff:\n",
    "                binary_out.write(diff.to_bytes(length=escape_length, byteorder='big', signed=True))\n",
    "                #running_value = current_value\n",
    "\n",
    "            else:\n",
    "                binary_out.write(escape_code)\n",
    "                binary_out.write(current_value.to_bytes(length=4, byteorder='big', signed=True))\n",
    "\n",
    "            count+=1"
   ]
  },
  {
   "cell_type": "code",
   "execution_count": 36,
   "id": "9f18e8a1-7faa-4058-be00-e3323240f9d0",
   "metadata": {},
   "outputs": [],
   "source": [
    "input_csv_file = 'ADM-2023-Assignment-3-data-TPCH-SF-1\\l_extendedprice-int64.csv'\n",
    "output_dif_file = 'encoded_output.csv.dif'\n",
    "\n",
    "FrameOfReference_encoding_int64(input_csv_file, output_dif_file)\n",
    "\n",
    "# from 46,131 KB to 17,582 KB"
   ]
  },
  {
   "cell_type": "markdown",
   "id": "f12f44d1-507c-4ad9-ac65-1755686e0c93",
   "metadata": {},
   "source": [
    "### Decoding"
   ]
  },
  {
   "cell_type": "code",
   "execution_count": 37,
   "id": "c82335e6-c42f-4153-8639-1c73b9931352",
   "metadata": {},
   "outputs": [],
   "source": [
    "def FrameOfReference_decoding_int64(input_file, output_file):\n",
    "    first_row = True\n",
    "    escape = 0\n",
    "\n",
    "    with open(input_file, 'rb') as binary_in, open(output_file, 'w') as text_out:\n",
    "        while True:\n",
    "            if first_row:\n",
    "                chunk = binary_in.read(1)\n",
    "                if not chunk:\n",
    "                    break\n",
    "\n",
    "                escape_length = int.from_bytes(chunk, byteorder='big', signed = True)\n",
    "                min_diff = -2**((8*escape_length)-1)+1\n",
    "                max_diff = abs(min_diff)\n",
    "                \n",
    "                chunk = binary_in.read(4)\n",
    "                if not chunk:\n",
    "                    break\n",
    "\n",
    "                frame = int.from_bytes(chunk, byteorder = 'big', signed = True)\n",
    "\n",
    "                first_row = False\n",
    "            else:\n",
    "                if escape == 1:\n",
    "                    chunk = binary_in.read(4)\n",
    "                    if not chunk:\n",
    "                        break\n",
    "                    current_value = int.from_bytes(chunk, byteorder= 'big', signed=True)\n",
    "                    \n",
    "                    text_out.write(f\"{current_value}\\n\")\n",
    "                    \n",
    "                else:\n",
    "                    chunk = binary_in.read(escape_length)\n",
    "                    if not chunk:\n",
    "                        break\n",
    "                    current_value = int.from_bytes(chunk, byteorder = 'big', signed = True)\n",
    "    \n",
    "                    if min_diff <= current_value <= max_diff:\n",
    "                        diff = frame + current_value\n",
    "                        text_out.write(f\"{diff}\\n\")\n",
    "                    else:\n",
    "                        escape = 1"
   ]
  },
  {
   "cell_type": "code",
   "execution_count": 38,
   "id": "b6ea3e27-6262-43b7-8f50-cbff4d6b5554",
   "metadata": {},
   "outputs": [],
   "source": [
    "input_dif_file = 'encoded_output.csv.dif'\n",
    "output_csv_file = 'decoded_output.csv.dif.csv'\n",
    "\n",
    "FrameOfReference_decoding_int64(input_dif_file, output_csv_file)\n",
    "\n",
    "# back to 46,131 KB"
   ]
  }
 ],
 "metadata": {
  "kernelspec": {
   "display_name": "Python 3 (ipykernel)",
   "language": "python",
   "name": "python3"
  },
  "language_info": {
   "codemirror_mode": {
    "name": "ipython",
    "version": 3
   },
   "file_extension": ".py",
   "mimetype": "text/x-python",
   "name": "python",
   "nbconvert_exporter": "python",
   "pygments_lexer": "ipython3",
   "version": "3.10.10"
  }
 },
 "nbformat": 4,
 "nbformat_minor": 5
}
